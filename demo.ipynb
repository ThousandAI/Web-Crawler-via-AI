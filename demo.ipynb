{
  "nbformat": 4,
  "nbformat_minor": 0,
  "metadata": {
    "colab": {
      "provenance": [],
      "authorship_tag": "ABX9TyPwZol3sCYb1cwQnvgqPqPh",
      "include_colab_link": true
    },
    "kernelspec": {
      "name": "python3",
      "display_name": "Python 3"
    },
    "language_info": {
      "name": "python"
    }
  },
  "cells": [
    {
      "cell_type": "markdown",
      "metadata": {
        "id": "view-in-github",
        "colab_type": "text"
      },
      "source": [
        "<a href=\"https://colab.research.google.com/github/ThousandAI/Web-Crawler-via-AI/blob/main/demo.ipynb\" target=\"_parent\"><img src=\"https://colab.research.google.com/assets/colab-badge.svg\" alt=\"Open In Colab\"/></a>"
      ]
    },
    {
      "cell_type": "code",
      "execution_count": 12,
      "metadata": {
        "colab": {
          "base_uri": "https://localhost:8080/"
        },
        "id": "8oGxmtgGlvoc",
        "outputId": "45f9e823-f305-43d5-ba0d-bb82011fde03"
      },
      "outputs": [
        {
          "output_type": "stream",
          "name": "stdout",
          "text": [
            "ScrapeMe\n",
            "商品名稱: Bulbasaur, 價格: £63.00\n",
            "商品名稱: Ivysaur, 價格: £87.00\n",
            "商品名稱: Venusaur, 價格: £105.00\n",
            "商品名稱: Charmander, 價格: £48.00\n",
            "商品名稱: Charmeleon, 價格: £165.00\n",
            "商品名稱: Charizard, 價格: £156.00\n",
            "商品名稱: Squirtle, 價格: £130.00\n",
            "商品名稱: Wartortle, 價格: £123.00\n",
            "商品名稱: Blastoise, 價格: £76.00\n",
            "商品名稱: Caterpie, 價格: £73.00\n",
            "商品名稱: Metapod, 價格: £148.00\n",
            "商品名稱: Butterfree, 價格: £162.00\n",
            "商品名稱: Weedle, 價格: £25.00\n",
            "商品名稱: Kakuna, 價格: £148.00\n",
            "商品名稱: Beedrill, 價格: £168.00\n",
            "商品名稱: Pidgey, 價格: £159.00\n"
          ]
        }
      ],
      "source": [
        "import requests\n",
        "from bs4 import BeautifulSoup\n",
        "\n",
        "url = \"https://scrapeme.live/shop/\"\n",
        "\n",
        "response = requests.get(url)\n",
        "\n",
        "if response.status_code == 200:\n",
        "  soup = BeautifulSoup(response.text, \"html.parser\")\n",
        "  web_title = soup.find(\"div\", class_=\"beta site-title\").find(\"a\").text.strip()\n",
        "  print(web_title)\n",
        "  products = soup.find_all(\"li\", class_=\"product\")\n",
        "  for product in products:\n",
        "    title = product.find(\"h2\", class_=\"woocommerce-loop-product__title\").text.strip()\n",
        "    price = product.find(\"span\", class_=\"woocommerce-Price-amount\").text.strip()\n",
        "    print(f\"商品名稱: {title}, 價格: {price}\")\n",
        "\n",
        "\n",
        "\n"
      ]
    },
    {
      "cell_type": "code",
      "source": [],
      "metadata": {
        "id": "4qZAdXvGm9I1"
      },
      "execution_count": null,
      "outputs": []
    }
  ]
}