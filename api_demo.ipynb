{
  "nbformat": 4,
  "nbformat_minor": 0,
  "metadata": {
    "colab": {
      "provenance": [],
      "authorship_tag": "ABX9TyPkeP6nmxe4v7a1kpeNI+nR",
      "include_colab_link": true
    },
    "kernelspec": {
      "name": "python3",
      "display_name": "Python 3"
    },
    "language_info": {
      "name": "python"
    }
  },
  "cells": [
    {
      "cell_type": "markdown",
      "metadata": {
        "id": "view-in-github",
        "colab_type": "text"
      },
      "source": [
        "<a href=\"https://colab.research.google.com/github/ThousandAI/Web-Crawler-via-AI/blob/main/api_demo.ipynb\" target=\"_parent\"><img src=\"https://colab.research.google.com/assets/colab-badge.svg\" alt=\"Open In Colab\"/></a>"
      ]
    },
    {
      "cell_type": "markdown",
      "source": [
        "# OpenWeatherMap API"
      ],
      "metadata": {
        "id": "DdzBq1smpY0H"
      }
    },
    {
      "cell_type": "code",
      "source": [
        "import requests\n",
        "\n",
        "API_KEY = \"API_KEY\"\n",
        "LAT, LON = 24.1477, 120.6736\n",
        "\n",
        "URL = f\"https://api.openweathermap.org/data/2.5/weather?lat={LAT}&lon={LON}&appid={API_KEY}&units=metric&lang=zh_tw\"\n",
        "\n",
        "response = requests.get(URL)\n",
        "\n",
        "if response.status_code == 200:\n",
        "    data = response.json()\n",
        "\n",
        "    weather_description = data[\"weather\"][0][\"description\"]\n",
        "    temperature = data[\"main\"][\"temp\"]\n",
        "    humidity = data[\"main\"][\"humidity\"]\n",
        "    wind_speed = data[\"wind\"][\"speed\"]\n",
        "\n",
        "    print(f\"位置: 臺中\")\n",
        "    print(f\"天氣狀況: {weather_description}\")\n",
        "    print(f\"溫度: {temperature}°C\")\n",
        "    print(f\"濕度: {humidity}%\")\n",
        "    print(f\"風速: {wind_speed} m/s\")\n",
        "\n",
        "else:\n",
        "    print(f\"API 請求失敗，狀態碼: {response.status_code}\")\n"
      ],
      "metadata": {
        "id": "r7E6OWWwpYXu"
      },
      "execution_count": null,
      "outputs": []
    },
    {
      "cell_type": "code",
      "execution_count": null,
      "metadata": {
        "id": "hJRzKaGJorVv"
      },
      "outputs": [],
      "source": [
        "import requests\n",
        "import pandas as pd\n",
        "import matplotlib.pyplot as plt\n",
        "from datetime import datetime\n",
        "\n",
        "API_KEY = \"API_KEY\"\n",
        "LAT, LON = 24.1477, 120.6736\n",
        "\n",
        "URL = f\"https://api.openweathermap.org/data/2.5/forecast?lat={LAT}&lon={LON}&appid={API_KEY}&units=metric&lang=zh_tw\"\n",
        "\n",
        "response = requests.get(URL)\n",
        "\n",
        "if response.status_code == 200:\n",
        "    data = response.json()\n",
        "    forecast_list = data[\"list\"]\n",
        "    weather_data = []\n",
        "\n",
        "    for entry in forecast_list:\n",
        "        dt_txt = entry[\"dt_txt\"]\n",
        "        temp = entry[\"main\"][\"temp\"]\n",
        "        humidity = entry[\"main\"][\"humidity\"]\n",
        "        wind_speed = entry[\"wind\"][\"speed\"]\n",
        "        weather_desc = entry[\"weather\"][0][\"description\"]\n",
        "\n",
        "        weather_data.append([dt_txt, temp, humidity, wind_speed, weather_desc])\n",
        "\n",
        "    df = pd.DataFrame(weather_data, columns=[\"Time\", \"Temperature\", \"Humidity\", \"Wind Speed\", \"Weather\"])\n",
        "\n",
        "    df[\"Time\"] = pd.to_datetime(df[\"Time\"])\n",
        "\n",
        "    print(df)\n",
        "\n",
        "else:\n",
        "    print(f\"API 請求失敗，狀態碼: {response.status_code}\")\n"
      ]
    },
    {
      "cell_type": "code",
      "source": [
        "plt.figure(figsize=(10, 6))\n",
        "plt.plot(df[\"Time\"], df[\"Temperature\"], marker=\"o\", linestyle=\"-\", label=\"Temperature (°C)\")\n",
        "\n",
        "plt.xlabel(\"Time\")\n",
        "plt.ylabel(\"Temparature\")\n",
        "plt.title(\"Forecast\")\n",
        "plt.xticks(rotation=45)\n",
        "plt.legend()\n",
        "plt.grid()\n",
        "\n",
        "plt.show()"
      ],
      "metadata": {
        "id": "VEwQD3jcsUQO"
      },
      "execution_count": null,
      "outputs": []
    },
    {
      "cell_type": "code",
      "source": [
        "import requests\n",
        "import pandas as pd\n",
        "import matplotlib.pyplot as plt\n",
        "\n",
        "API_KEY = \"API_KEY\"\n",
        "\n",
        "cities = {\n",
        "    \"Taipei\": {\"lat\": 25.0330, \"lon\": 121.5654, \"color\": \"#FFA500\"},\n",
        "    \"Taichung\": {\"lat\": 24.1477, \"lon\": 120.6736, \"color\": \"#800080\"},\n",
        "    \"Kaohsiung\": {\"lat\": 22.6273, \"lon\": 120.3014, \"color\": \"#8B4513\"}\n",
        "}\n",
        "\n",
        "all_weather_data = []\n",
        "\n",
        "for city, location in cities.items():\n",
        "    lat, lon = location[\"lat\"], location[\"lon\"]\n",
        "    url = f\"https://api.openweathermap.org/data/2.5/forecast?lat={lat}&lon={lon}&appid={API_KEY}&units=metric&lang=zh_tw\"\n",
        "    response = requests.get(url)\n",
        "    if response.status_code == 200:\n",
        "        data = response.json()\n",
        "\n",
        "        for entry in data[\"list\"]:\n",
        "            dt_txt = entry[\"dt_txt\"]\n",
        "            temp = entry[\"main\"][\"temp\"]\n",
        "\n",
        "            all_weather_data.append([city, dt_txt, temp])\n",
        "\n",
        "df = pd.DataFrame(all_weather_data, columns=[\"City\", \"Time\", \"Temperature\"])\n",
        "\n",
        "df[\"Time\"] = pd.to_datetime(df[\"Time\"])"
      ],
      "metadata": {
        "id": "fCJ6Slb8tjgn"
      },
      "execution_count": 27,
      "outputs": []
    },
    {
      "cell_type": "code",
      "source": [
        "plt.figure(figsize=(10, 6))\n",
        "\n",
        "for city, info in cities.items():\n",
        "    city_data = df[df[\"City\"] == city]\n",
        "    plt.plot(city_data[\"Time\"], city_data[\"Temperature\"], marker=\"o\", linestyle=\"-\", color=info[\"color\"], label=city)\n",
        "\n",
        "plt.xlabel(\"Time\")\n",
        "plt.ylabel(\"Temperature\")\n",
        "plt.title(\"Forecast\")\n",
        "plt.xticks(rotation=45)\n",
        "plt.legend()\n",
        "plt.grid(True)\n",
        "\n",
        "plt.show()"
      ],
      "metadata": {
        "id": "5xVDJcu4xA83"
      },
      "execution_count": null,
      "outputs": []
    },
    {
      "cell_type": "code",
      "source": [],
      "metadata": {
        "id": "sGB6y2ZqyiJK"
      },
      "execution_count": null,
      "outputs": []
    }
  ]
}