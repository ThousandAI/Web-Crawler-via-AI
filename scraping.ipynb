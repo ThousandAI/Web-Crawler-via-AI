{
  "nbformat": 4,
  "nbformat_minor": 0,
  "metadata": {
    "colab": {
      "provenance": [],
      "mount_file_id": "1kIxhZVX1nkB_CanH3QEttpzSWROfchwK",
      "authorship_tag": "ABX9TyN/lFUzMIUGFn98c3E2nDwG",
      "include_colab_link": true
    },
    "kernelspec": {
      "name": "python3",
      "display_name": "Python 3"
    },
    "language_info": {
      "name": "python"
    }
  },
  "cells": [
    {
      "cell_type": "markdown",
      "metadata": {
        "id": "view-in-github",
        "colab_type": "text"
      },
      "source": [
        "<a href=\"https://colab.research.google.com/github/ThousandAI/Web-Crawler-via-AI/blob/main/scraping.ipynb\" target=\"_parent\"><img src=\"https://colab.research.google.com/assets/colab-badge.svg\" alt=\"Open In Colab\"/></a>"
      ]
    },
    {
      "cell_type": "markdown",
      "source": [
        "# Scrape"
      ],
      "metadata": {
        "id": "bV7_sdFaZVQO"
      }
    },
    {
      "cell_type": "code",
      "execution_count": null,
      "metadata": {
        "id": "8oGxmtgGlvoc"
      },
      "outputs": [],
      "source": [
        "import requests\n",
        "import os\n",
        "from bs4 import BeautifulSoup\n",
        "\n",
        "url = \"https://scrapeme.live/shop/\"\n",
        "\n",
        "response = requests.get(url)\n",
        "print(response)"
      ]
    },
    {
      "cell_type": "code",
      "source": [
        "if response.status_code == 200:\n",
        "  soup = BeautifulSoup(response.text, \"html.parser\")\n",
        "  web_title = soup.find(\"div\", class_=\"beta site-title\").find(\"a\").text.strip()\n",
        "  print(web_title)"
      ],
      "metadata": {
        "id": "4qZAdXvGm9I1"
      },
      "execution_count": null,
      "outputs": []
    },
    {
      "cell_type": "code",
      "source": [
        "products = soup.find_all(\"li\", class_=\"product\")\n",
        "for product in products:\n",
        "  title = product.find(\"h2\", class_=\"woocommerce-loop-product__title\").text.strip()\n",
        "  price = product.find(\"span\", class_=\"woocommerce-Price-amount\").text.strip()\n",
        "  print(f\"Product name: {title}, Price: {price}\")"
      ],
      "metadata": {
        "id": "y5_sGJcIvwoC"
      },
      "execution_count": null,
      "outputs": []
    },
    {
      "cell_type": "code",
      "source": [
        "from google.colab import drive\n",
        "drive.mount('/content/drive')\n",
        "\n",
        "drive_folder = \"/content/drive/MyDrive/ThousandAI 程式教育/WebCrawler/pokemon-images/\"\n",
        "\n",
        "os.makedirs(drive_folder, exist_ok=True)\n",
        "\n",
        "products = soup.find_all(\"li\", class_=\"product\")\n",
        "\n",
        "for product in products:\n",
        "  title = product.find(\"h2\", class_=\"woocommerce-loop-product__title\").text.strip()\n",
        "  img_tag = product.find(\"img\")\n",
        "\n",
        "  if img_tag and \"src\" in img_tag.attrs:\n",
        "    img_url = img_tag[\"src\"]\n",
        "    img_data = requests.get(img_url).content\n",
        "\n",
        "    img_filename = os.path.join(drive_folder, f\"{title.replace(' ', '_')}.jpg\")\n",
        "\n",
        "    with open(img_filename, \"wb\") as img_file:\n",
        "        img_file.write(img_data)\n",
        "\n",
        "    print(f\"Already Download: {img_filename}\")\n",
        "\n"
      ],
      "metadata": {
        "id": "oZpfs7zlvx8q"
      },
      "execution_count": null,
      "outputs": []
    },
    {
      "cell_type": "code",
      "source": [
        "from tqdm import tqdm\n",
        "import time\n",
        "for i in tqdm(range(1, 101), desc=\"Processing\", unit=\" steps\"):\n",
        "  time.sleep(0.1)"
      ],
      "metadata": {
        "id": "KQM0fz1kxuzB"
      },
      "execution_count": null,
      "outputs": []
    },
    {
      "cell_type": "code",
      "source": [
        "import requests\n",
        "from bs4 import BeautifulSoup\n",
        "import os\n",
        "import pandas as pd\n",
        "from google.colab import drive\n",
        "from tqdm import tqdm\n",
        "\n",
        "drive.mount('/content/drive')\n",
        "\n",
        "drive_folder = \"/content/drive/MyDrive/ThousandAI 程式教育/WebCrawler/pokemon-images/\"\n",
        "csv_file = \"/content/drive/MyDrive/ThousandAI 程式教育/WebCrawler/scrapeme_products.csv\"\n",
        "\n",
        "os.makedirs(drive_folder, exist_ok=True)\n",
        "\n",
        "base_url = \"https://scrapeme.live/shop/page/{}/\"\n",
        "\n",
        "all_products = []\n",
        "\n",
        "max_pages = 48\n",
        "\n",
        "for page in tqdm(range(1, max_pages + 1), desc=\"Processing Pages\", unit=\" page\"):\n",
        "    url = base_url.format(page)\n",
        "    response = requests.get(url)\n",
        "\n",
        "    soup = BeautifulSoup(response.text, \"html.parser\")\n",
        "    products = soup.find_all(\"li\", class_=\"product\")\n",
        "\n",
        "    for product in products:\n",
        "        title = product.find(\"h2\", class_=\"woocommerce-loop-product__title\").text.strip()\n",
        "        price = product.find(\"span\", class_=\"woocommerce-Price-amount\").text.strip()\n",
        "        img_tag = product.find(\"img\")\n",
        "\n",
        "        if img_tag and \"src\" in img_tag.attrs:\n",
        "            img_url = img_tag[\"src\"]\n",
        "            img_filename = os.path.join(drive_folder, f\"{title.replace(' ', '_')}.jpg\")\n",
        "            img_data = requests.get(img_url).content\n",
        "            with open(img_filename, \"wb\") as img_file:\n",
        "                img_file.write(img_data)\n",
        "\n",
        "        all_products.append([title, price, img_url])\n",
        "\n",
        "df = pd.DataFrame(all_products, columns=[\"Product Name\", \"Price\", \"Img URL\"])\n",
        "\n",
        "df.to_csv(csv_file, index=False, encoding=\"utf-8-sig\")\n",
        "\n",
        "print(f\"Scraping completed! Data saved in: {csv_file}\")\n",
        "\n"
      ],
      "metadata": {
        "id": "RGex6ErW5SHJ"
      },
      "execution_count": null,
      "outputs": []
    },
    {
      "cell_type": "markdown",
      "source": [
        "# Pandas"
      ],
      "metadata": {
        "id": "ewxZlAZ0ZYQ7"
      }
    },
    {
      "cell_type": "code",
      "source": [
        "import pandas as pd\n",
        "import numpy as np\n",
        "\n",
        "data = {\n",
        "    '姓名': ['小明', '小華', '小美', '小強', '小張'],\n",
        "    '年齡': [25, 30, 22, 28, 26],\n",
        "    '成績': [85, 90, 88, 76, 95],\n",
        "    '城市': ['台北', '台中', '台北', '高雄', '台中']\n",
        "}\n",
        "\n",
        "df = pd.DataFrame(data)\n",
        "print(\"原始 DataFrame：\")\n",
        "print(df)"
      ],
      "metadata": {
        "id": "tTGtqnrRZZDz"
      },
      "execution_count": null,
      "outputs": []
    },
    {
      "cell_type": "code",
      "source": [
        "print(\"\\n資料資訊：\")\n",
        "print(df.info())\n",
        "\n",
        "print(\"\\n統計摘要：\")\n",
        "print(df.describe())\n",
        "\n",
        "print(\"\\n選取 '姓名' 和 '成績'：\")\n",
        "print(df[['姓名', '成績']])\n",
        "\n",
        "filtered_df = df[df['成績'] > 85]\n",
        "print(\"\\n成績大於 85 的人：\")\n",
        "print(filtered_df)\n",
        "\n",
        "sorted_df = df.sort_values(by='成績', ascending=False)\n",
        "print(\"\\n按成績排序（由高到低）：\")\n",
        "print(sorted_df)\n",
        "\n",
        "extra_data = pd.DataFrame({\n",
        "    '姓名': ['小明', '小華', '小美', '小強', '小張'],\n",
        "    '性別': ['男', '男', '女', '男', '男']\n",
        "})\n",
        "merged_df = pd.merge(df, extra_data, on='姓名', how='left')\n",
        "print(\"\\n合併 '性別' 資料：\")\n",
        "print(merged_df)\n",
        "\n",
        "df.loc[2, '成績'] = np.nan\n",
        "print(\"\\n含有 NaN 值的 DataFrame：\")\n",
        "print(df)\n",
        "\n",
        "df_filled = df.fillna(df['成績'].mean())\n",
        "print(\"\\nNaN 值填補後的 DataFrame：\")\n",
        "print(df_filled)\n",
        "\n",
        "df.to_csv('sample_data.csv', index=False)\n",
        "df_loaded = pd.read_csv('sample_data.csv')\n",
        "print(\"\\n讀取 CSV 檔案：\")\n",
        "print(df_loaded)"
      ],
      "metadata": {
        "id": "3yVKr5U1Zkvu"
      },
      "execution_count": null,
      "outputs": []
    }
  ]
}