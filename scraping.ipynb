{
  "nbformat": 4,
  "nbformat_minor": 0,
  "metadata": {
    "colab": {
      "provenance": [],
      "mount_file_id": "1kIxhZVX1nkB_CanH3QEttpzSWROfchwK",
      "authorship_tag": "ABX9TyM00QsR9+DaqB1Xz7UbJ00Y",
      "include_colab_link": true
    },
    "kernelspec": {
      "name": "python3",
      "display_name": "Python 3"
    },
    "language_info": {
      "name": "python"
    }
  },
  "cells": [
    {
      "cell_type": "markdown",
      "metadata": {
        "id": "view-in-github",
        "colab_type": "text"
      },
      "source": [
        "<a href=\"https://colab.research.google.com/github/ThousandAI/Web-Crawler-via-AI/blob/main/scraping.ipynb\" target=\"_parent\"><img src=\"https://colab.research.google.com/assets/colab-badge.svg\" alt=\"Open In Colab\"/></a>"
      ]
    },
    {
      "cell_type": "code",
      "execution_count": null,
      "metadata": {
        "id": "8oGxmtgGlvoc"
      },
      "outputs": [],
      "source": [
        "import requests\n",
        "import os\n",
        "from bs4 import BeautifulSoup\n",
        "\n",
        "url = \"https://scrapeme.live/shop/\"\n",
        "\n",
        "response = requests.get(url)\n",
        "print(response)"
      ]
    },
    {
      "cell_type": "code",
      "source": [
        "if response.status_code == 200:\n",
        "  soup = BeautifulSoup(response.text, \"html.parser\")\n",
        "  web_title = soup.find(\"div\", class_=\"beta site-title\").find(\"a\").text.strip()\n",
        "  print(web_title)"
      ],
      "metadata": {
        "id": "4qZAdXvGm9I1"
      },
      "execution_count": null,
      "outputs": []
    },
    {
      "cell_type": "code",
      "source": [
        "products = soup.find_all(\"li\", class_=\"product\")\n",
        "for product in products:\n",
        "  title = product.find(\"h2\", class_=\"woocommerce-loop-product__title\").text.strip()\n",
        "  price = product.find(\"span\", class_=\"woocommerce-Price-amount\").text.strip()\n",
        "  print(f\"Product name: {title}, Price: {price}\")"
      ],
      "metadata": {
        "id": "y5_sGJcIvwoC"
      },
      "execution_count": null,
      "outputs": []
    },
    {
      "cell_type": "code",
      "source": [
        "from google.colab import drive\n",
        "drive.mount('/content/drive')\n",
        "\n",
        "drive_folder = \"/content/drive/MyDrive/ThousandAI 程式教育/WebCrawler/pokemon-images/\"\n",
        "\n",
        "os.makedirs(drive_folder, exist_ok=True)\n",
        "\n",
        "products = soup.find_all(\"li\", class_=\"product\")\n",
        "\n",
        "for product in products:\n",
        "  title = product.find(\"h2\", class_=\"woocommerce-loop-product__title\").text.strip()\n",
        "  img_tag = product.find(\"img\")\n",
        "\n",
        "  if img_tag and \"src\" in img_tag.attrs:\n",
        "    img_url = img_tag[\"src\"]\n",
        "    img_data = requests.get(img_url).content\n",
        "\n",
        "    img_filename = os.path.join(drive_folder, f\"{title.replace(' ', '_')}.jpg\")\n",
        "\n",
        "    with open(img_filename, \"wb\") as img_file:\n",
        "        img_file.write(img_data)\n",
        "\n",
        "    print(f\"Already Download: {img_filename}\")\n",
        "\n"
      ],
      "metadata": {
        "id": "oZpfs7zlvx8q"
      },
      "execution_count": null,
      "outputs": []
    },
    {
      "cell_type": "code",
      "source": [
        "from tqdm import tqdm\n",
        "import time\n",
        "for i in tqdm(range(1, 101), desc=\"Processing\", unit=\" steps\"):\n",
        "  time.sleep(0.1)"
      ],
      "metadata": {
        "id": "KQM0fz1kxuzB"
      },
      "execution_count": null,
      "outputs": []
    },
    {
      "cell_type": "code",
      "source": [
        "import requests\n",
        "from bs4 import BeautifulSoup\n",
        "import os\n",
        "import pandas as pd\n",
        "from google.colab import drive\n",
        "from tqdm import tqdm\n",
        "\n",
        "drive.mount('/content/drive')\n",
        "\n",
        "drive_folder = \"/content/drive/MyDrive/ThousandAI 程式教育/WebCrawler/pokemon-images/\"\n",
        "csv_file = \"/content/drive/MyDrive/ThousandAI 程式教育/WebCrawler/scrapeme_products.csv\"\n",
        "\n",
        "os.makedirs(drive_folder, exist_ok=True)\n",
        "\n",
        "base_url = \"https://scrapeme.live/shop/page/{}/\"\n",
        "\n",
        "all_products = []\n",
        "\n",
        "max_pages = 48\n",
        "\n",
        "for page in tqdm(range(1, max_pages + 1), desc=\"Processing Pages\", unit=\" page\"):\n",
        "    url = base_url.format(page)\n",
        "    response = requests.get(url)\n",
        "\n",
        "    soup = BeautifulSoup(response.text, \"html.parser\")\n",
        "    products = soup.find_all(\"li\", class_=\"product\")\n",
        "\n",
        "    for product in products:\n",
        "        title = product.find(\"h2\", class_=\"woocommerce-loop-product__title\").text.strip()\n",
        "        price = product.find(\"span\", class_=\"woocommerce-Price-amount\").text.strip()\n",
        "        img_tag = product.find(\"img\")\n",
        "\n",
        "        if img_tag and \"src\" in img_tag.attrs:\n",
        "            img_url = img_tag[\"src\"]\n",
        "            img_filename = os.path.join(drive_folder, f\"{title.replace(' ', '_')}.jpg\")\n",
        "            img_data = requests.get(img_url).content\n",
        "            with open(img_filename, \"wb\") as img_file:\n",
        "                img_file.write(img_data)\n",
        "\n",
        "        all_products.append([title, price, img_url])\n",
        "\n",
        "df = pd.DataFrame(all_products, columns=[\"Product Name\", \"Price\", \"Img URL\"])\n",
        "\n",
        "df.to_csv(csv_file, index=False, encoding=\"utf-8-sig\")\n",
        "\n",
        "print(f\"Scraping completed! Data saved in: {csv_file}\")\n",
        "\n"
      ],
      "metadata": {
        "id": "RGex6ErW5SHJ"
      },
      "execution_count": null,
      "outputs": []
    }
  ]
}